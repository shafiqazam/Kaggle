{
 "cells": [
  {
   "cell_type": "markdown",
   "metadata": {},
   "source": [
    "Tutorial based on https://www.youtube.com/watch?v=vV12dGe_Fho&t=937s&ab_channel=RobMulla"
   ]
  },
  {
   "cell_type": "code",
   "execution_count": 145,
   "metadata": {},
   "outputs": [],
   "source": [
    "import numpy as np\n",
    "import pandas as pd\n",
    "import matplotlib.pyplot as plt\n",
    "import seaborn as sns\n",
    "\n",
    "import xgboost as xgb\n",
    "from sklearn.metrics import mean_squared_error"
   ]
  },
  {
   "cell_type": "markdown",
   "metadata": {},
   "source": [
    "There are a few types of time series data:\n",
    "\n",
    "1. Random Error - no recognizable pattern\n",
    "2. Exponential growth\n",
    "3. Linear Trend\n",
    "4. seasonal Pattern\n",
    "5. Seasonal Pattern and Linear Growth\n"
   ]
  },
  {
   "cell_type": "code",
   "execution_count": 146,
   "metadata": {},
   "outputs": [],
   "source": [
    "df = pd.read_csv('PJME_hourly.csv')"
   ]
  },
  {
   "cell_type": "code",
   "execution_count": 147,
   "metadata": {},
   "outputs": [
    {
     "data": {
      "application/vnd.microsoft.datawrangler.viewer.v0+json": {
       "columns": [
        {
         "name": "index",
         "rawType": "int64",
         "type": "integer"
        },
        {
         "name": "Datetime",
         "rawType": "object",
         "type": "string"
        },
        {
         "name": "PJME_MW",
         "rawType": "float64",
         "type": "float"
        }
       ],
       "conversionMethod": "pd.DataFrame",
       "ref": "150573d4-3a1a-4380-b1dc-dd860ee4fd90",
       "rows": [
        [
         "0",
         "2002-12-31 01:00:00",
         "26498.0"
        ],
        [
         "1",
         "2002-12-31 02:00:00",
         "25147.0"
        ],
        [
         "2",
         "2002-12-31 03:00:00",
         "24574.0"
        ],
        [
         "3",
         "2002-12-31 04:00:00",
         "24393.0"
        ],
        [
         "4",
         "2002-12-31 05:00:00",
         "24860.0"
        ]
       ],
       "shape": {
        "columns": 2,
        "rows": 5
       }
      },
      "text/html": [
       "<div>\n",
       "<style scoped>\n",
       "    .dataframe tbody tr th:only-of-type {\n",
       "        vertical-align: middle;\n",
       "    }\n",
       "\n",
       "    .dataframe tbody tr th {\n",
       "        vertical-align: top;\n",
       "    }\n",
       "\n",
       "    .dataframe thead th {\n",
       "        text-align: right;\n",
       "    }\n",
       "</style>\n",
       "<table border=\"1\" class=\"dataframe\">\n",
       "  <thead>\n",
       "    <tr style=\"text-align: right;\">\n",
       "      <th></th>\n",
       "      <th>Datetime</th>\n",
       "      <th>PJME_MW</th>\n",
       "    </tr>\n",
       "  </thead>\n",
       "  <tbody>\n",
       "    <tr>\n",
       "      <th>0</th>\n",
       "      <td>2002-12-31 01:00:00</td>\n",
       "      <td>26498.0</td>\n",
       "    </tr>\n",
       "    <tr>\n",
       "      <th>1</th>\n",
       "      <td>2002-12-31 02:00:00</td>\n",
       "      <td>25147.0</td>\n",
       "    </tr>\n",
       "    <tr>\n",
       "      <th>2</th>\n",
       "      <td>2002-12-31 03:00:00</td>\n",
       "      <td>24574.0</td>\n",
       "    </tr>\n",
       "    <tr>\n",
       "      <th>3</th>\n",
       "      <td>2002-12-31 04:00:00</td>\n",
       "      <td>24393.0</td>\n",
       "    </tr>\n",
       "    <tr>\n",
       "      <th>4</th>\n",
       "      <td>2002-12-31 05:00:00</td>\n",
       "      <td>24860.0</td>\n",
       "    </tr>\n",
       "  </tbody>\n",
       "</table>\n",
       "</div>"
      ],
      "text/plain": [
       "              Datetime  PJME_MW\n",
       "0  2002-12-31 01:00:00  26498.0\n",
       "1  2002-12-31 02:00:00  25147.0\n",
       "2  2002-12-31 03:00:00  24574.0\n",
       "3  2002-12-31 04:00:00  24393.0\n",
       "4  2002-12-31 05:00:00  24860.0"
      ]
     },
     "execution_count": 147,
     "metadata": {},
     "output_type": "execute_result"
    }
   ],
   "source": [
    "df.head()"
   ]
  },
  {
   "cell_type": "code",
   "execution_count": 148,
   "metadata": {},
   "outputs": [
    {
     "data": {
      "application/vnd.microsoft.datawrangler.viewer.v0+json": {
       "columns": [
        {
         "name": "index",
         "rawType": "int64",
         "type": "integer"
        },
        {
         "name": "Datetime",
         "rawType": "object",
         "type": "string"
        },
        {
         "name": "PJME_MW",
         "rawType": "float64",
         "type": "float"
        }
       ],
       "conversionMethod": "pd.DataFrame",
       "ref": "4bb3784a-b711-4287-a3ed-601a1bef6deb",
       "rows": [
        [
         "145361",
         "2018-01-01 20:00:00",
         "44284.0"
        ],
        [
         "145362",
         "2018-01-01 21:00:00",
         "43751.0"
        ],
        [
         "145363",
         "2018-01-01 22:00:00",
         "42402.0"
        ],
        [
         "145364",
         "2018-01-01 23:00:00",
         "40164.0"
        ],
        [
         "145365",
         "2018-01-02 00:00:00",
         "38608.0"
        ]
       ],
       "shape": {
        "columns": 2,
        "rows": 5
       }
      },
      "text/html": [
       "<div>\n",
       "<style scoped>\n",
       "    .dataframe tbody tr th:only-of-type {\n",
       "        vertical-align: middle;\n",
       "    }\n",
       "\n",
       "    .dataframe tbody tr th {\n",
       "        vertical-align: top;\n",
       "    }\n",
       "\n",
       "    .dataframe thead th {\n",
       "        text-align: right;\n",
       "    }\n",
       "</style>\n",
       "<table border=\"1\" class=\"dataframe\">\n",
       "  <thead>\n",
       "    <tr style=\"text-align: right;\">\n",
       "      <th></th>\n",
       "      <th>Datetime</th>\n",
       "      <th>PJME_MW</th>\n",
       "    </tr>\n",
       "  </thead>\n",
       "  <tbody>\n",
       "    <tr>\n",
       "      <th>145361</th>\n",
       "      <td>2018-01-01 20:00:00</td>\n",
       "      <td>44284.0</td>\n",
       "    </tr>\n",
       "    <tr>\n",
       "      <th>145362</th>\n",
       "      <td>2018-01-01 21:00:00</td>\n",
       "      <td>43751.0</td>\n",
       "    </tr>\n",
       "    <tr>\n",
       "      <th>145363</th>\n",
       "      <td>2018-01-01 22:00:00</td>\n",
       "      <td>42402.0</td>\n",
       "    </tr>\n",
       "    <tr>\n",
       "      <th>145364</th>\n",
       "      <td>2018-01-01 23:00:00</td>\n",
       "      <td>40164.0</td>\n",
       "    </tr>\n",
       "    <tr>\n",
       "      <th>145365</th>\n",
       "      <td>2018-01-02 00:00:00</td>\n",
       "      <td>38608.0</td>\n",
       "    </tr>\n",
       "  </tbody>\n",
       "</table>\n",
       "</div>"
      ],
      "text/plain": [
       "                   Datetime  PJME_MW\n",
       "145361  2018-01-01 20:00:00  44284.0\n",
       "145362  2018-01-01 21:00:00  43751.0\n",
       "145363  2018-01-01 22:00:00  42402.0\n",
       "145364  2018-01-01 23:00:00  40164.0\n",
       "145365  2018-01-02 00:00:00  38608.0"
      ]
     },
     "execution_count": 148,
     "metadata": {},
     "output_type": "execute_result"
    }
   ],
   "source": [
    "df.tail()"
   ]
  },
  {
   "cell_type": "code",
   "execution_count": 149,
   "metadata": {},
   "outputs": [],
   "source": [
    "df['Datetime'] = pd.to_datetime(df['Datetime'])"
   ]
  },
  {
   "cell_type": "code",
   "execution_count": 150,
   "metadata": {},
   "outputs": [],
   "source": [
    "df = df.set_index('Datetime')"
   ]
  },
  {
   "cell_type": "code",
   "execution_count": 151,
   "metadata": {},
   "outputs": [],
   "source": [
    "df = df[~df.index.duplicated()]"
   ]
  },
  {
   "cell_type": "code",
   "execution_count": 152,
   "metadata": {},
   "outputs": [],
   "source": [
    "color_pal = sns.color_palette()"
   ]
  },
  {
   "cell_type": "code",
   "execution_count": 153,
   "metadata": {},
   "outputs": [
    {
     "data": {
      "image/png": "[encoded data removed]",
      "text/plain": [
       "<Figure size 1500x500 with 1 Axes>"
      ]
     },
     "metadata": {},
     "output_type": "display_data"
    }
   ],
   "source": [
    "df.plot(style='.', figsize=(15,5), color=color_pal[0], title=\"PJME Energy\")\n",
    "plt.show()\n"
   ]
  },
  {
   "cell_type": "markdown",
   "metadata": {},
   "source": [
    "# Train / Test Split"
   ]
  },
  {
   "cell_type": "code",
   "execution_count": 154,
   "metadata": {},
   "outputs": [
    {
     "data": {
      "application/vnd.microsoft.datawrangler.viewer.v0+json": {
       "columns": [
        {
         "name": "Datetime",
         "rawType": "datetime64[ns]",
         "type": "datetime"
        },
        {
         "name": "PJME_MW",
         "rawType": "float64",
         "type": "float"
        }
       ],
       "conversionMethod": "pd.DataFrame",
       "ref": "08236f33-0590-4928-8e26-f2ae634ab164",
       "rows": [
        [
         "2002-12-31 01:00:00",
         "26498.0"
        ],
        [
         "2002-12-31 02:00:00",
         "25147.0"
        ],
        [
         "2002-12-31 03:00:00",
         "24574.0"
        ],
        [
         "2002-12-31 04:00:00",
         "24393.0"
        ],
        [
         "2002-12-31 05:00:00",
         "24860.0"
        ],
        [
         "2002-12-31 06:00:00",
         "26222.0"
        ],
        [
         "2002-12-31 07:00:00",
         "28702.0"
        ],
        [
         "2002-12-31 08:00:00",
         "30698.0"
        ],
        [
         "2002-12-31 09:00:00",
         "31800.0"
        ],
        [
         "2002-12-31 10:00:00",
         "32359.0"
        ],
        [
         "2002-12-31 11:00:00",
         "32371.0"
        ],
        [
         "2002-12-31 12:00:00",
         "31902.0"
        ],
        [
         "2002-12-31 13:00:00",
         "31126.0"
        ],
        [
         "2002-12-31 14:00:00",
         "30368.0"
        ],
        [
         "2002-12-31 15:00:00",
         "29564.0"
        ],
        [
         "2002-12-31 16:00:00",
         "29098.0"
        ],
        [
         "2002-12-31 17:00:00",
         "30308.0"
        ],
        [
         "2002-12-31 18:00:00",
         "34017.0"
        ],
        [
         "2002-12-31 19:00:00",
         "34195.0"
        ],
        [
         "2002-12-31 20:00:00",
         "32790.0"
        ],
        [
         "2002-12-31 21:00:00",
         "31336.0"
        ],
        [
         "2002-12-31 22:00:00",
         "29887.0"
        ],
        [
         "2002-12-31 23:00:00",
         "28483.0"
        ],
        [
         "2003-01-01 00:00:00",
         "27008.0"
        ],
        [
         "2002-12-30 01:00:00",
         "27526.0"
        ],
        [
         "2002-12-30 02:00:00",
         "26600.0"
        ],
        [
         "2002-12-30 03:00:00",
         "26241.0"
        ],
        [
         "2002-12-30 04:00:00",
         "26213.0"
        ],
        [
         "2002-12-30 05:00:00",
         "26871.0"
        ],
        [
         "2002-12-30 06:00:00",
         "28679.0"
        ],
        [
         "2002-12-30 07:00:00",
         "31509.0"
        ],
        [
         "2002-12-30 08:00:00",
         "33665.0"
        ],
        [
         "2002-12-30 09:00:00",
         "34625.0"
        ],
        [
         "2002-12-30 10:00:00",
         "34655.0"
        ],
        [
         "2002-12-30 11:00:00",
         "34295.0"
        ],
        [
         "2002-12-30 12:00:00",
         "33711.0"
        ],
        [
         "2002-12-30 13:00:00",
         "33087.0"
        ],
        [
         "2002-12-30 14:00:00",
         "32668.0"
        ],
        [
         "2002-12-30 15:00:00",
         "32380.0"
        ],
        [
         "2002-12-30 16:00:00",
         "32484.0"
        ],
        [
         "2002-12-30 17:00:00",
         "34076.0"
        ],
        [
         "2002-12-30 18:00:00",
         "36979.0"
        ],
        [
         "2002-12-30 19:00:00",
         "37106.0"
        ],
        [
         "2002-12-30 20:00:00",
         "36492.0"
        ],
        [
         "2002-12-30 21:00:00",
         "35468.0"
        ],
        [
         "2002-12-30 22:00:00",
         "33944.0"
        ],
        [
         "2002-12-30 23:00:00",
         "31619.0"
        ],
        [
         "2002-12-31 00:00:00",
         "28765.0"
        ],
        [
         "2002-12-29 01:00:00",
         "27084.0"
        ],
        [
         "2002-12-29 02:00:00",
         "25836.0"
        ]
       ],
       "shape": {
        "columns": 1,
        "rows": 145362
       }
      },
      "text/html": [
       "<div>\n",
       "<style scoped>\n",
       "    .dataframe tbody tr th:only-of-type {\n",
       "        vertical-align: middle;\n",
       "    }\n",
       "\n",
       "    .dataframe tbody tr th {\n",
       "        vertical-align: top;\n",
       "    }\n",
       "\n",
       "    .dataframe thead th {\n",
       "        text-align: right;\n",
       "    }\n",
       "</style>\n",
       "<table border=\"1\" class=\"dataframe\">\n",
       "  <thead>\n",
       "    <tr style=\"text-align: right;\">\n",
       "      <th></th>\n",
       "      <th>PJME_MW</th>\n",
       "    </tr>\n",
       "    <tr>\n",
       "      <th>Datetime</th>\n",
       "      <th></th>\n",
       "    </tr>\n",
       "  </thead>\n",
       "  <tbody>\n",
       "    <tr>\n",
       "      <th>2002-12-31 01:00:00</th>\n",
       "      <td>26498.0</td>\n",
       "    </tr>\n",
       "    <tr>\n",
       "      <th>2002-12-31 02:00:00</th>\n",
       "      <td>25147.0</td>\n",
       "    </tr>\n",
       "    <tr>\n",
       "      <th>2002-12-31 03:00:00</th>\n",
       "      <td>24574.0</td>\n",
       "    </tr>\n",
       "    <tr>\n",
       "      <th>2002-12-31 04:00:00</th>\n",
       "      <td>24393.0</td>\n",
       "    </tr>\n",
       "    <tr>\n",
       "      <th>2002-12-31 05:00:00</th>\n",
       "      <td>24860.0</td>\n",
       "    </tr>\n",
       "    <tr>\n",
       "      <th>...</th>\n",
       "      <td>...</td>\n",
       "    </tr>\n",
       "    <tr>\n",
       "      <th>2018-01-01 20:00:00</th>\n",
       "      <td>44284.0</td>\n",
       "    </tr>\n",
       "    <tr>\n",
       "      <th>2018-01-01 21:00:00</th>\n",
       "      <td>43751.0</td>\n",
       "    </tr>\n",
       "    <tr>\n",
       "      <th>2018-01-01 22:00:00</th>\n",
       "      <td>42402.0</td>\n",
       "    </tr>\n",
       "    <tr>\n",
       "      <th>2018-01-01 23:00:00</th>\n",
       "      <td>40164.0</td>\n",
       "    </tr>\n",
       "    <tr>\n",
       "      <th>2018-01-02 00:00:00</th>\n",
       "      <td>38608.0</td>\n",
       "    </tr>\n",
       "  </tbody>\n",
       "</table>\n",
       "<p>145362 rows × 1 columns</p>\n",
       "</div>"
      ],
      "text/plain": [
       "                     PJME_MW\n",
       "Datetime                    \n",
       "2002-12-31 01:00:00  26498.0\n",
       "2002-12-31 02:00:00  25147.0\n",
       "2002-12-31 03:00:00  24574.0\n",
       "2002-12-31 04:00:00  24393.0\n",
       "2002-12-31 05:00:00  24860.0\n",
       "...                      ...\n",
       "2018-01-01 20:00:00  44284.0\n",
       "2018-01-01 21:00:00  43751.0\n",
       "2018-01-01 22:00:00  42402.0\n",
       "2018-01-01 23:00:00  40164.0\n",
       "2018-01-02 00:00:00  38608.0\n",
       "\n",
       "[145362 rows x 1 columns]"
      ]
     },
     "execution_count": 154,
     "metadata": {},
     "output_type": "execute_result"
    }
   ],
   "source": [
    "df"
   ]
  },
  {
   "cell_type": "code",
   "execution_count": 155,
   "metadata": {},
   "outputs": [
    {
     "data": {
      "image/png": "[encoded data removed]",
      "text/plain": [
       "<Figure size 1500x500 with 1 Axes>"
      ]
     },
     "metadata": {},
     "output_type": "display_data"
    }
   ],
   "source": [
    "# Test split at Jan 2015\n",
    "train = df.loc[df.index < '2015-01-01']\n",
    "test = df.loc[df.index >= '01-01-2015']\n",
    "\n",
    "fig, ax = plt.subplots(figsize=(15,5))\n",
    "train.plot(ax= ax, label='Training Set')\n",
    "test.plot(ax=ax, label='Test Set')\n",
    "# ax.axvline('0')\n",
    "plt.show()\n"
   ]
  },
  {
   "cell_type": "code",
   "execution_count": 156,
   "metadata": {},
   "outputs": [
    {
     "data": {
      "application/vnd.microsoft.datawrangler.viewer.v0+json": {
       "columns": [
        {
         "name": "Datetime",
         "rawType": "datetime64[ns]",
         "type": "datetime"
        },
        {
         "name": "PJME_MW",
         "rawType": "float64",
         "type": "float"
        }
       ],
       "conversionMethod": "pd.DataFrame",
       "ref": "e0ca09ab-7875-4232-9a9f-6274f9f0c7fd",
       "rows": [
        [
         "2002-12-31 01:00:00",
         "26498.0"
        ],
        [
         "2002-12-31 02:00:00",
         "25147.0"
        ],
        [
         "2002-12-31 03:00:00",
         "24574.0"
        ],
        [
         "2002-12-31 04:00:00",
         "24393.0"
        ],
        [
         "2002-12-31 05:00:00",
         "24860.0"
        ],
        [
         "2002-12-31 06:00:00",
         "26222.0"
        ],
        [
         "2002-12-31 07:00:00",
         "28702.0"
        ],
        [
         "2002-12-31 08:00:00",
         "30698.0"
        ],
        [
         "2002-12-31 09:00:00",
         "31800.0"
        ],
        [
         "2002-12-31 10:00:00",
         "32359.0"
        ],
        [
         "2002-12-31 11:00:00",
         "32371.0"
        ],
        [
         "2002-12-31 12:00:00",
         "31902.0"
        ],
        [
         "2002-12-31 13:00:00",
         "31126.0"
        ],
        [
         "2002-12-31 14:00:00",
         "30368.0"
        ],
        [
         "2002-12-31 15:00:00",
         "29564.0"
        ],
        [
         "2002-12-31 16:00:00",
         "29098.0"
        ],
        [
         "2002-12-31 17:00:00",
         "30308.0"
        ],
        [
         "2002-12-31 18:00:00",
         "34017.0"
        ],
        [
         "2002-12-31 19:00:00",
         "34195.0"
        ],
        [
         "2002-12-31 20:00:00",
         "32790.0"
        ],
        [
         "2002-12-31 21:00:00",
         "31336.0"
        ],
        [
         "2002-12-31 22:00:00",
         "29887.0"
        ],
        [
         "2002-12-31 23:00:00",
         "28483.0"
        ],
        [
         "2003-01-01 00:00:00",
         "27008.0"
        ],
        [
         "2002-12-30 01:00:00",
         "27526.0"
        ],
        [
         "2002-12-30 02:00:00",
         "26600.0"
        ],
        [
         "2002-12-30 03:00:00",
         "26241.0"
        ],
        [
         "2002-12-30 04:00:00",
         "26213.0"
        ],
        [
         "2002-12-30 05:00:00",
         "26871.0"
        ],
        [
         "2002-12-30 06:00:00",
         "28679.0"
        ],
        [
         "2002-12-30 07:00:00",
         "31509.0"
        ],
        [
         "2002-12-30 08:00:00",
         "33665.0"
        ],
        [
         "2002-12-30 09:00:00",
         "34625.0"
        ],
        [
         "2002-12-30 10:00:00",
         "34655.0"
        ],
        [
         "2002-12-30 11:00:00",
         "34295.0"
        ],
        [
         "2002-12-30 12:00:00",
         "33711.0"
        ],
        [
         "2002-12-30 13:00:00",
         "33087.0"
        ],
        [
         "2002-12-30 14:00:00",
         "32668.0"
        ],
        [
         "2002-12-30 15:00:00",
         "32380.0"
        ],
        [
         "2002-12-30 16:00:00",
         "32484.0"
        ],
        [
         "2002-12-30 17:00:00",
         "34076.0"
        ],
        [
         "2002-12-30 18:00:00",
         "36979.0"
        ],
        [
         "2002-12-30 19:00:00",
         "37106.0"
        ],
        [
         "2002-12-30 20:00:00",
         "36492.0"
        ],
        [
         "2002-12-30 21:00:00",
         "35468.0"
        ],
        [
         "2002-12-30 22:00:00",
         "33944.0"
        ],
        [
         "2002-12-30 23:00:00",
         "31619.0"
        ],
        [
         "2002-12-31 00:00:00",
         "28765.0"
        ],
        [
         "2002-12-29 01:00:00",
         "27084.0"
        ],
        [
         "2002-12-29 02:00:00",
         "25836.0"
        ]
       ],
       "shape": {
        "columns": 1,
        "rows": 113925
       }
      },
      "text/html": [
       "<div>\n",
       "<style scoped>\n",
       "    .dataframe tbody tr th:only-of-type {\n",
       "        vertical-align: middle;\n",
       "    }\n",
       "\n",
       "    .dataframe tbody tr th {\n",
       "        vertical-align: top;\n",
       "    }\n",
       "\n",
       "    .dataframe thead th {\n",
       "        text-align: right;\n",
       "    }\n",
       "</style>\n",
       "<table border=\"1\" class=\"dataframe\">\n",
       "  <thead>\n",
       "    <tr style=\"text-align: right;\">\n",
       "      <th></th>\n",
       "      <th>PJME_MW</th>\n",
       "    </tr>\n",
       "    <tr>\n",
       "      <th>Datetime</th>\n",
       "      <th></th>\n",
       "    </tr>\n",
       "  </thead>\n",
       "  <tbody>\n",
       "    <tr>\n",
       "      <th>2002-12-31 01:00:00</th>\n",
       "      <td>26498.0</td>\n",
       "    </tr>\n",
       "    <tr>\n",
       "      <th>2002-12-31 02:00:00</th>\n",
       "      <td>25147.0</td>\n",
       "    </tr>\n",
       "    <tr>\n",
       "      <th>2002-12-31 03:00:00</th>\n",
       "      <td>24574.0</td>\n",
       "    </tr>\n",
       "    <tr>\n",
       "      <th>2002-12-31 04:00:00</th>\n",
       "      <td>24393.0</td>\n",
       "    </tr>\n",
       "    <tr>\n",
       "      <th>2002-12-31 05:00:00</th>\n",
       "      <td>24860.0</td>\n",
       "    </tr>\n",
       "    <tr>\n",
       "      <th>...</th>\n",
       "      <td>...</td>\n",
       "    </tr>\n",
       "    <tr>\n",
       "      <th>2014-01-01 20:00:00</th>\n",
       "      <td>36193.0</td>\n",
       "    </tr>\n",
       "    <tr>\n",
       "      <th>2014-01-01 21:00:00</th>\n",
       "      <td>35601.0</td>\n",
       "    </tr>\n",
       "    <tr>\n",
       "      <th>2014-01-01 22:00:00</th>\n",
       "      <td>34242.0</td>\n",
       "    </tr>\n",
       "    <tr>\n",
       "      <th>2014-01-01 23:00:00</th>\n",
       "      <td>32215.0</td>\n",
       "    </tr>\n",
       "    <tr>\n",
       "      <th>2014-01-02 00:00:00</th>\n",
       "      <td>30159.0</td>\n",
       "    </tr>\n",
       "  </tbody>\n",
       "</table>\n",
       "<p>113925 rows × 1 columns</p>\n",
       "</div>"
      ],
      "text/plain": [
       "                     PJME_MW\n",
       "Datetime                    \n",
       "2002-12-31 01:00:00  26498.0\n",
       "2002-12-31 02:00:00  25147.0\n",
       "2002-12-31 03:00:00  24574.0\n",
       "2002-12-31 04:00:00  24393.0\n",
       "2002-12-31 05:00:00  24860.0\n",
       "...                      ...\n",
       "2014-01-01 20:00:00  36193.0\n",
       "2014-01-01 21:00:00  35601.0\n",
       "2014-01-01 22:00:00  34242.0\n",
       "2014-01-01 23:00:00  32215.0\n",
       "2014-01-02 00:00:00  30159.0\n",
       "\n",
       "[113925 rows x 1 columns]"
      ]
     },
     "execution_count": 156,
     "metadata": {},
     "output_type": "execute_result"
    }
   ],
   "source": [
    "train"
   ]
  },
  {
   "cell_type": "markdown",
   "metadata": {},
   "source": [
    "Look at the weekly data"
   ]
  },
  {
   "cell_type": "code",
   "execution_count": 157,
   "metadata": {},
   "outputs": [
    {
     "data": {
      "text/plain": [
       "<Axes: xlabel='Datetime'>"
      ]
     },
     "execution_count": 157,
     "metadata": {},
     "output_type": "execute_result"
    },
    {
     "data": {
      "image/png": "[encoded data removed]",
      "text/plain": [
       "<Figure size 1500x500 with 1 Axes>"
      ]
     },
     "metadata": {},
     "output_type": "display_data"
    }
   ],
   "source": [
    "df.loc[(df.index > '01-01-2010') & (df.index < '01-08-2010')].plot(figsize=(15,5))"
   ]
  },
  {
   "cell_type": "markdown",
   "metadata": {},
   "source": [
    "Observation: Two peaks per day, 1st of january is holiday"
   ]
  },
  {
   "cell_type": "markdown",
   "metadata": {},
   "source": [
    "day_of_week begins on Monday according to docs"
   ]
  },
  {
   "cell_type": "code",
   "execution_count": 158,
   "metadata": {},
   "outputs": [],
   "source": [
    "def create_features(df):\n",
    "    \"\"\"\n",
    "    Create time series features based on time series index\n",
    "    \"\"\"\n",
    "    df = df.copy()\n",
    "    df['hour'] = df.index.hour\n",
    "    df['dayOfWeek'] = df.index.day_of_week\n",
    "    df['quarter'] = df.index.quarter\n",
    "    df['month'] = df.index.month\n",
    "    df['year'] = df.index.year\n",
    "    df['dayOfYear'] = df.index.dayofyear\n",
    "    \n",
    "    return df"
   ]
  },
  {
   "cell_type": "code",
   "execution_count": 159,
   "metadata": {},
   "outputs": [],
   "source": [
    "df = create_features(df)"
   ]
  },
  {
   "cell_type": "markdown",
   "metadata": {},
   "source": [
    "Visualize Features / Target Relationship"
   ]
  },
  {
   "cell_type": "markdown",
   "metadata": {},
   "source": [
    "Analysis of consumption on hour of day"
   ]
  },
  {
   "cell_type": "code",
   "execution_count": 160,
   "metadata": {},
   "outputs": [
    {
     "data": {
      "text/plain": [
       "<function matplotlib.pyplot.show(close=None, block=None)>"
      ]
     },
     "execution_count": 160,
     "metadata": {},
     "output_type": "execute_result"
    },
    {
     "data": {
      "image/png": "[encoded data removed]",
      "text/plain": [
       "<Figure size 1000x800 with 1 Axes>"
      ]
     },
     "metadata": {},
     "output_type": "display_data"
    }
   ],
   "source": [
    "fig, ax = plt.subplots(figsize=(10,8))\n",
    "sns.boxplot(data=df, x='hour', y='PJME_MW')\n",
    "ax.set_title('MW by hour')\n",
    "plt.show"
   ]
  },
  {
   "cell_type": "markdown",
   "metadata": {},
   "source": [
    "Analysis by month"
   ]
  },
  {
   "cell_type": "code",
   "execution_count": 161,
   "metadata": {},
   "outputs": [
    {
     "data": {
      "text/plain": [
       "<function matplotlib.pyplot.show(close=None, block=None)>"
      ]
     },
     "execution_count": 161,
     "metadata": {},
     "output_type": "execute_result"
    },
    {
     "data": {
      "image/png": "[encoded data removed]",
      "text/plain": [
       "<Figure size 1000x800 with 1 Axes>"
      ]
     },
     "metadata": {},
     "output_type": "display_data"
    }
   ],
   "source": [
    "fig, ax = plt.subplots(figsize=(10,8))\n",
    "sns.boxplot(data=df, x='month', y='PJME_MW')\n",
    "ax.set_title('MW by hour')\n",
    "plt.show"
   ]
  },
  {
   "cell_type": "markdown",
   "metadata": {},
   "source": [
    "Create model"
   ]
  },
  {
   "cell_type": "code",
   "execution_count": 162,
   "metadata": {},
   "outputs": [
    {
     "data": {
      "application/vnd.microsoft.datawrangler.viewer.v0+json": {
       "columns": [
        {
         "name": "Datetime",
         "rawType": "datetime64[ns]",
         "type": "datetime"
        },
        {
         "name": "PJME_MW",
         "rawType": "float64",
         "type": "float"
        }
       ],
       "conversionMethod": "pd.DataFrame",
       "ref": "ccc82238-73fa-4320-9c32-235e9c5d85de",
       "rows": [
        [
         "2002-12-31 01:00:00",
         "26498.0"
        ],
        [
         "2002-12-31 02:00:00",
         "25147.0"
        ],
        [
         "2002-12-31 03:00:00",
         "24574.0"
        ],
        [
         "2002-12-31 04:00:00",
         "24393.0"
        ],
        [
         "2002-12-31 05:00:00",
         "24860.0"
        ],
        [
         "2002-12-31 06:00:00",
         "26222.0"
        ],
        [
         "2002-12-31 07:00:00",
         "28702.0"
        ],
        [
         "2002-12-31 08:00:00",
         "30698.0"
        ],
        [
         "2002-12-31 09:00:00",
         "31800.0"
        ],
        [
         "2002-12-31 10:00:00",
         "32359.0"
        ],
        [
         "2002-12-31 11:00:00",
         "32371.0"
        ],
        [
         "2002-12-31 12:00:00",
         "31902.0"
        ],
        [
         "2002-12-31 13:00:00",
         "31126.0"
        ],
        [
         "2002-12-31 14:00:00",
         "30368.0"
        ],
        [
         "2002-12-31 15:00:00",
         "29564.0"
        ],
        [
         "2002-12-31 16:00:00",
         "29098.0"
        ],
        [
         "2002-12-31 17:00:00",
         "30308.0"
        ],
        [
         "2002-12-31 18:00:00",
         "34017.0"
        ],
        [
         "2002-12-31 19:00:00",
         "34195.0"
        ],
        [
         "2002-12-31 20:00:00",
         "32790.0"
        ],
        [
         "2002-12-31 21:00:00",
         "31336.0"
        ],
        [
         "2002-12-31 22:00:00",
         "29887.0"
        ],
        [
         "2002-12-31 23:00:00",
         "28483.0"
        ],
        [
         "2003-01-01 00:00:00",
         "27008.0"
        ],
        [
         "2002-12-30 01:00:00",
         "27526.0"
        ],
        [
         "2002-12-30 02:00:00",
         "26600.0"
        ],
        [
         "2002-12-30 03:00:00",
         "26241.0"
        ],
        [
         "2002-12-30 04:00:00",
         "26213.0"
        ],
        [
         "2002-12-30 05:00:00",
         "26871.0"
        ],
        [
         "2002-12-30 06:00:00",
         "28679.0"
        ],
        [
         "2002-12-30 07:00:00",
         "31509.0"
        ],
        [
         "2002-12-30 08:00:00",
         "33665.0"
        ],
        [
         "2002-12-30 09:00:00",
         "34625.0"
        ],
        [
         "2002-12-30 10:00:00",
         "34655.0"
        ],
        [
         "2002-12-30 11:00:00",
         "34295.0"
        ],
        [
         "2002-12-30 12:00:00",
         "33711.0"
        ],
        [
         "2002-12-30 13:00:00",
         "33087.0"
        ],
        [
         "2002-12-30 14:00:00",
         "32668.0"
        ],
        [
         "2002-12-30 15:00:00",
         "32380.0"
        ],
        [
         "2002-12-30 16:00:00",
         "32484.0"
        ],
        [
         "2002-12-30 17:00:00",
         "34076.0"
        ],
        [
         "2002-12-30 18:00:00",
         "36979.0"
        ],
        [
         "2002-12-30 19:00:00",
         "37106.0"
        ],
        [
         "2002-12-30 20:00:00",
         "36492.0"
        ],
        [
         "2002-12-30 21:00:00",
         "35468.0"
        ],
        [
         "2002-12-30 22:00:00",
         "33944.0"
        ],
        [
         "2002-12-30 23:00:00",
         "31619.0"
        ],
        [
         "2002-12-31 00:00:00",
         "28765.0"
        ],
        [
         "2002-12-29 01:00:00",
         "27084.0"
        ],
        [
         "2002-12-29 02:00:00",
         "25836.0"
        ]
       ],
       "shape": {
        "columns": 1,
        "rows": 113925
       }
      },
      "text/html": [
       "<div>\n",
       "<style scoped>\n",
       "    .dataframe tbody tr th:only-of-type {\n",
       "        vertical-align: middle;\n",
       "    }\n",
       "\n",
       "    .dataframe tbody tr th {\n",
       "        vertical-align: top;\n",
       "    }\n",
       "\n",
       "    .dataframe thead th {\n",
       "        text-align: right;\n",
       "    }\n",
       "</style>\n",
       "<table border=\"1\" class=\"dataframe\">\n",
       "  <thead>\n",
       "    <tr style=\"text-align: right;\">\n",
       "      <th></th>\n",
       "      <th>PJME_MW</th>\n",
       "    </tr>\n",
       "    <tr>\n",
       "      <th>Datetime</th>\n",
       "      <th></th>\n",
       "    </tr>\n",
       "  </thead>\n",
       "  <tbody>\n",
       "    <tr>\n",
       "      <th>2002-12-31 01:00:00</th>\n",
       "      <td>26498.0</td>\n",
       "    </tr>\n",
       "    <tr>\n",
       "      <th>2002-12-31 02:00:00</th>\n",
       "      <td>25147.0</td>\n",
       "    </tr>\n",
       "    <tr>\n",
       "      <th>2002-12-31 03:00:00</th>\n",
       "      <td>24574.0</td>\n",
       "    </tr>\n",
       "    <tr>\n",
       "      <th>2002-12-31 04:00:00</th>\n",
       "      <td>24393.0</td>\n",
       "    </tr>\n",
       "    <tr>\n",
       "      <th>2002-12-31 05:00:00</th>\n",
       "      <td>24860.0</td>\n",
       "    </tr>\n",
       "    <tr>\n",
       "      <th>...</th>\n",
       "      <td>...</td>\n",
       "    </tr>\n",
       "    <tr>\n",
       "      <th>2014-01-01 20:00:00</th>\n",
       "      <td>36193.0</td>\n",
       "    </tr>\n",
       "    <tr>\n",
       "      <th>2014-01-01 21:00:00</th>\n",
       "      <td>35601.0</td>\n",
       "    </tr>\n",
       "    <tr>\n",
       "      <th>2014-01-01 22:00:00</th>\n",
       "      <td>34242.0</td>\n",
       "    </tr>\n",
       "    <tr>\n",
       "      <th>2014-01-01 23:00:00</th>\n",
       "      <td>32215.0</td>\n",
       "    </tr>\n",
       "    <tr>\n",
       "      <th>2014-01-02 00:00:00</th>\n",
       "      <td>30159.0</td>\n",
       "    </tr>\n",
       "  </tbody>\n",
       "</table>\n",
       "<p>113925 rows × 1 columns</p>\n",
       "</div>"
      ],
      "text/plain": [
       "                     PJME_MW\n",
       "Datetime                    \n",
       "2002-12-31 01:00:00  26498.0\n",
       "2002-12-31 02:00:00  25147.0\n",
       "2002-12-31 03:00:00  24574.0\n",
       "2002-12-31 04:00:00  24393.0\n",
       "2002-12-31 05:00:00  24860.0\n",
       "...                      ...\n",
       "2014-01-01 20:00:00  36193.0\n",
       "2014-01-01 21:00:00  35601.0\n",
       "2014-01-01 22:00:00  34242.0\n",
       "2014-01-01 23:00:00  32215.0\n",
       "2014-01-02 00:00:00  30159.0\n",
       "\n",
       "[113925 rows x 1 columns]"
      ]
     },
     "execution_count": 162,
     "metadata": {},
     "output_type": "execute_result"
    }
   ],
   "source": [
    "train"
   ]
  },
  {
   "cell_type": "code",
   "execution_count": 163,
   "metadata": {},
   "outputs": [
    {
     "data": {
      "application/vnd.microsoft.datawrangler.viewer.v0+json": {
       "columns": [
        {
         "name": "Datetime",
         "rawType": "datetime64[ns]",
         "type": "datetime"
        },
        {
         "name": "PJME_MW",
         "rawType": "float64",
         "type": "float"
        }
       ],
       "conversionMethod": "pd.DataFrame",
       "ref": "4540fe81-aa1b-4b75-b895-206b18775c3a",
       "rows": [
        [
         "2015-01-01 00:00:00",
         "32802.0"
        ],
        [
         "2015-12-31 01:00:00",
         "24305.0"
        ],
        [
         "2015-12-31 02:00:00",
         "23156.0"
        ],
        [
         "2015-12-31 03:00:00",
         "22514.0"
        ],
        [
         "2015-12-31 04:00:00",
         "22330.0"
        ],
        [
         "2015-12-31 05:00:00",
         "22773.0"
        ],
        [
         "2015-12-31 06:00:00",
         "24106.0"
        ],
        [
         "2015-12-31 07:00:00",
         "26129.0"
        ],
        [
         "2015-12-31 08:00:00",
         "27660.0"
        ],
        [
         "2015-12-31 09:00:00",
         "28461.0"
        ],
        [
         "2015-12-31 10:00:00",
         "29195.0"
        ],
        [
         "2015-12-31 11:00:00",
         "29459.0"
        ],
        [
         "2015-12-31 12:00:00",
         "29461.0"
        ],
        [
         "2015-12-31 13:00:00",
         "29195.0"
        ],
        [
         "2015-12-31 14:00:00",
         "28902.0"
        ],
        [
         "2015-12-31 15:00:00",
         "28740.0"
        ],
        [
         "2015-12-31 16:00:00",
         "29048.0"
        ],
        [
         "2015-12-31 17:00:00",
         "30774.0"
        ],
        [
         "2015-12-31 18:00:00",
         "33130.0"
        ],
        [
         "2015-12-31 19:00:00",
         "32732.0"
        ],
        [
         "2015-12-31 20:00:00",
         "31564.0"
        ],
        [
         "2015-12-31 21:00:00",
         "30404.0"
        ],
        [
         "2015-12-31 22:00:00",
         "29210.0"
        ],
        [
         "2015-12-31 23:00:00",
         "27944.0"
        ],
        [
         "2016-01-01 00:00:00",
         "26686.0"
        ],
        [
         "2015-12-30 01:00:00",
         "24845.0"
        ],
        [
         "2015-12-30 02:00:00",
         "23791.0"
        ],
        [
         "2015-12-30 03:00:00",
         "23249.0"
        ],
        [
         "2015-12-30 04:00:00",
         "23077.0"
        ],
        [
         "2015-12-30 05:00:00",
         "23598.0"
        ],
        [
         "2015-12-30 06:00:00",
         "25127.0"
        ],
        [
         "2015-12-30 07:00:00",
         "27438.0"
        ],
        [
         "2015-12-30 08:00:00",
         "29159.0"
        ],
        [
         "2015-12-30 09:00:00",
         "29948.0"
        ],
        [
         "2015-12-30 10:00:00",
         "30649.0"
        ],
        [
         "2015-12-30 11:00:00",
         "31117.0"
        ],
        [
         "2015-12-30 12:00:00",
         "31223.0"
        ],
        [
         "2015-12-30 13:00:00",
         "31050.0"
        ],
        [
         "2015-12-30 14:00:00",
         "30985.0"
        ],
        [
         "2015-12-30 15:00:00",
         "30822.0"
        ],
        [
         "2015-12-30 16:00:00",
         "30913.0"
        ],
        [
         "2015-12-30 17:00:00",
         "32260.0"
        ],
        [
         "2015-12-30 18:00:00",
         "33851.0"
        ],
        [
         "2015-12-30 19:00:00",
         "33477.0"
        ],
        [
         "2015-12-30 20:00:00",
         "32674.0"
        ],
        [
         "2015-12-30 21:00:00",
         "31800.0"
        ],
        [
         "2015-12-30 22:00:00",
         "30323.0"
        ],
        [
         "2015-12-30 23:00:00",
         "28311.0"
        ],
        [
         "2015-12-31 00:00:00",
         "26101.0"
        ],
        [
         "2015-12-29 01:00:00",
         "26443.0"
        ]
       ],
       "shape": {
        "columns": 1,
        "rows": 31437
       }
      },
      "text/html": [
       "<div>\n",
       "<style scoped>\n",
       "    .dataframe tbody tr th:only-of-type {\n",
       "        vertical-align: middle;\n",
       "    }\n",
       "\n",
       "    .dataframe tbody tr th {\n",
       "        vertical-align: top;\n",
       "    }\n",
       "\n",
       "    .dataframe thead th {\n",
       "        text-align: right;\n",
       "    }\n",
       "</style>\n",
       "<table border=\"1\" class=\"dataframe\">\n",
       "  <thead>\n",
       "    <tr style=\"text-align: right;\">\n",
       "      <th></th>\n",
       "      <th>PJME_MW</th>\n",
       "    </tr>\n",
       "    <tr>\n",
       "      <th>Datetime</th>\n",
       "      <th></th>\n",
       "    </tr>\n",
       "  </thead>\n",
       "  <tbody>\n",
       "    <tr>\n",
       "      <th>2015-01-01 00:00:00</th>\n",
       "      <td>32802.0</td>\n",
       "    </tr>\n",
       "    <tr>\n",
       "      <th>2015-12-31 01:00:00</th>\n",
       "      <td>24305.0</td>\n",
       "    </tr>\n",
       "    <tr>\n",
       "      <th>2015-12-31 02:00:00</th>\n",
       "      <td>23156.0</td>\n",
       "    </tr>\n",
       "    <tr>\n",
       "      <th>2015-12-31 03:00:00</th>\n",
       "      <td>22514.0</td>\n",
       "    </tr>\n",
       "    <tr>\n",
       "      <th>2015-12-31 04:00:00</th>\n",
       "      <td>22330.0</td>\n",
       "    </tr>\n",
       "    <tr>\n",
       "      <th>...</th>\n",
       "      <td>...</td>\n",
       "    </tr>\n",
       "    <tr>\n",
       "      <th>2018-01-01 20:00:00</th>\n",
       "      <td>44284.0</td>\n",
       "    </tr>\n",
       "    <tr>\n",
       "      <th>2018-01-01 21:00:00</th>\n",
       "      <td>43751.0</td>\n",
       "    </tr>\n",
       "    <tr>\n",
       "      <th>2018-01-01 22:00:00</th>\n",
       "      <td>42402.0</td>\n",
       "    </tr>\n",
       "    <tr>\n",
       "      <th>2018-01-01 23:00:00</th>\n",
       "      <td>40164.0</td>\n",
       "    </tr>\n",
       "    <tr>\n",
       "      <th>2018-01-02 00:00:00</th>\n",
       "      <td>38608.0</td>\n",
       "    </tr>\n",
       "  </tbody>\n",
       "</table>\n",
       "<p>31437 rows × 1 columns</p>\n",
       "</div>"
      ],
      "text/plain": [
       "                     PJME_MW\n",
       "Datetime                    \n",
       "2015-01-01 00:00:00  32802.0\n",
       "2015-12-31 01:00:00  24305.0\n",
       "2015-12-31 02:00:00  23156.0\n",
       "2015-12-31 03:00:00  22514.0\n",
       "2015-12-31 04:00:00  22330.0\n",
       "...                      ...\n",
       "2018-01-01 20:00:00  44284.0\n",
       "2018-01-01 21:00:00  43751.0\n",
       "2018-01-01 22:00:00  42402.0\n",
       "2018-01-01 23:00:00  40164.0\n",
       "2018-01-02 00:00:00  38608.0\n",
       "\n",
       "[31437 rows x 1 columns]"
      ]
     },
     "execution_count": 163,
     "metadata": {},
     "output_type": "execute_result"
    }
   ],
   "source": [
    "test"
   ]
  },
  {
   "cell_type": "code",
   "execution_count": 164,
   "metadata": {},
   "outputs": [],
   "source": [
    "train = create_features(train)\n",
    "test = create_features(test)"
   ]
  },
  {
   "cell_type": "code",
   "execution_count": 165,
   "metadata": {},
   "outputs": [
    {
     "data": {
      "text/plain": [
       "Index(['PJME_MW', 'hour', 'dayOfWeek', 'quarter', 'month', 'year',\n",
       "       'dayOfYear'],\n",
       "      dtype='object')"
      ]
     },
     "execution_count": 165,
     "metadata": {},
     "output_type": "execute_result"
    }
   ],
   "source": [
    "df.columns"
   ]
  },
  {
   "cell_type": "code",
   "execution_count": 166,
   "metadata": {},
   "outputs": [],
   "source": [
    "FEATURES = ['hour', 'dayOfWeek', 'quarter', 'month', 'year', 'dayOfYear']\n",
    "TARGET = ['PJME_MW']"
   ]
  },
  {
   "cell_type": "code",
   "execution_count": 167,
   "metadata": {},
   "outputs": [],
   "source": [
    "X_train = train[FEATURES]\n",
    "Y_train = train[TARGET]\n",
    "\n",
    "X_test = test[FEATURES]\n",
    "Y_Test = test[TARGET]"
   ]
  },
  {
   "cell_type": "code",
   "execution_count": 168,
   "metadata": {},
   "outputs": [
    {
     "name": "stdout",
     "output_type": "stream",
     "text": [
      "[0]\tvalidation_0-rmse:6407.33653\tvalidation_1-rmse:6479.23813\n",
      "[100]\tvalidation_0-rmse:3912.11879\tvalidation_1-rmse:4311.44579\n",
      "[200]\tvalidation_0-rmse:3245.57651\tvalidation_1-rmse:3864.83143\n",
      "[300]\tvalidation_0-rmse:2997.35661\tvalidation_1-rmse:3743.38043\n",
      "[400]\tvalidation_0-rmse:2832.90248\tvalidation_1-rmse:3740.27671\n",
      "[407]\tvalidation_0-rmse:2819.25288\tvalidation_1-rmse:3742.02888\n"
     ]
    },
    {
     "data": {
      "text/html": [
       "<style>#sk-container-id-5 {color: black;}#sk-container-id-5 pre{padding: 0;}#sk-container-id-5 div.sk-toggleable {background-color: white;}#sk-container-id-5 label.sk-toggleable__label {cursor: pointer;display: block;width: 100%;margin-bottom: 0;padding: 0.3em;box-sizing: border-box;text-align: center;}#sk-container-id-5 label.sk-toggleable__label-arrow:before {content: \"▸\";float: left;margin-right: 0.25em;color: #696969;}#sk-container-id-5 label.sk-toggleable__label-arrow:hover:before {color: black;}#sk-container-id-5 div.sk-estimator:hover label.sk-toggleable__label-arrow:before {color: black;}#sk-container-id-5 div.sk-toggleable__content {max-height: 0;max-width: 0;overflow: hidden;text-align: left;background-color: #f0f8ff;}#sk-container-id-5 div.sk-toggleable__content pre {margin: 0.2em;color: black;border-radius: 0.25em;background-color: #f0f8ff;}#sk-container-id-5 input.sk-toggleable__control:checked~div.sk-toggleable__content {max-height: 200px;max-width: 100%;overflow: auto;}#sk-container-id-5 input.sk-toggleable__control:checked~label.sk-toggleable__label-arrow:before {content: \"▾\";}#sk-container-id-5 div.sk-estimator input.sk-toggleable__control:checked~label.sk-toggleable__label {background-color: #d4ebff;}#sk-container-id-5 div.sk-label input.sk-toggleable__control:checked~label.sk-toggleable__label {background-color: #d4ebff;}#sk-container-id-5 input.sk-hidden--visually {border: 0;clip: rect(1px 1px 1px 1px);clip: rect(1px, 1px, 1px, 1px);height: 1px;margin: -1px;overflow: hidden;padding: 0;position: absolute;width: 1px;}#sk-container-id-5 div.sk-estimator {font-family: monospace;background-color: #f0f8ff;border: 1px dotted black;border-radius: 0.25em;box-sizing: border-box;margin-bottom: 0.5em;}#sk-container-id-5 div.sk-estimator:hover {background-color: #d4ebff;}#sk-container-id-5 div.sk-parallel-item::after {content: \"\";width: 100%;border-bottom: 1px solid gray;flex-grow: 1;}#sk-container-id-5 div.sk-label:hover label.sk-toggleable__label {background-color: #d4ebff;}#sk-container-id-5 div.sk-serial::before {content: \"\";position: absolute;border-left: 1px solid gray;box-sizing: border-box;top: 0;bottom: 0;left: 50%;z-index: 0;}#sk-container-id-5 div.sk-serial {display: flex;flex-direction: column;align-items: center;background-color: white;padding-right: 0.2em;padding-left: 0.2em;position: relative;}#sk-container-id-5 div.sk-item {position: relative;z-index: 1;}#sk-container-id-5 div.sk-parallel {display: flex;align-items: stretch;justify-content: center;background-color: white;position: relative;}#sk-container-id-5 div.sk-item::before, #sk-container-id-5 div.sk-parallel-item::before {content: \"\";position: absolute;border-left: 1px solid gray;box-sizing: border-box;top: 0;bottom: 0;left: 50%;z-index: -1;}#sk-container-id-5 div.sk-parallel-item {display: flex;flex-direction: column;z-index: 1;position: relative;background-color: white;}#sk-container-id-5 div.sk-parallel-item:first-child::after {align-self: flex-end;width: 50%;}#sk-container-id-5 div.sk-parallel-item:last-child::after {align-self: flex-start;width: 50%;}#sk-container-id-5 div.sk-parallel-item:only-child::after {width: 0;}#sk-container-id-5 div.sk-dashed-wrapped {border: 1px dashed gray;margin: 0 0.4em 0.5em 0.4em;box-sizing: border-box;padding-bottom: 0.4em;background-color: white;}#sk-container-id-5 div.sk-label label {font-family: monospace;font-weight: bold;display: inline-block;line-height: 1.2em;}#sk-container-id-5 div.sk-label-container {text-align: center;}#sk-container-id-5 div.sk-container {/* jupyter's `normalize.less` sets `[hidden] { display: none; }` but bootstrap.min.css set `[hidden] { display: none !important; }` so we also need the `!important` here to be able to override the default hidden behavior on the sphinx rendered scikit-learn.org. See: https://github.com/scikit-learn/scikit-learn/issues/21755 */display: inline-block !important;position: relative;}#sk-container-id-5 div.sk-text-repr-fallback {display: none;}</style><div id=\"sk-container-id-5\" class=\"sk-top-container\"><div class=\"sk-text-repr-fallback\"><pre>XGBRegressor(base_score=None, booster=None, callbacks=None,\n",
       "             colsample_bylevel=None, colsample_bynode=None,\n",
       "             colsample_bytree=None, device=None, early_stopping_rounds=50,\n",
       "             enable_categorical=False, eval_metric=None, feature_types=None,\n",
       "             gamma=None, grow_policy=None, importance_type=None,\n",
       "             interaction_constraints=None, learning_rate=0.01, max_bin=None,\n",
       "             max_cat_threshold=None, max_cat_to_onehot=None,\n",
       "             max_delta_step=None, max_depth=None, max_leaves=None,\n",
       "             min_child_weight=None, missing=nan, monotone_constraints=None,\n",
       "             multi_strategy=None, n_estimators=1000, n_jobs=None,\n",
       "             num_parallel_tree=None, random_state=None, ...)</pre><b>In a Jupyter environment, please rerun this cell to show the HTML representation or trust the notebook. <br />On GitHub, the HTML representation is unable to render, please try loading this page with nbviewer.org.</b></div><div class=\"sk-container\" hidden><div class=\"sk-item\"><div class=\"sk-estimator sk-toggleable\"><input class=\"sk-toggleable__control sk-hidden--visually\" id=\"sk-estimator-id-5\" type=\"checkbox\" checked><label for=\"sk-estimator-id-5\" class=\"sk-toggleable__label sk-toggleable__label-arrow\">XGBRegressor</label><div class=\"sk-toggleable__content\"><pre>XGBRegressor(base_score=None, booster=None, callbacks=None,\n",
       "             colsample_bylevel=None, colsample_bynode=None,\n",
       "             colsample_bytree=None, device=None, early_stopping_rounds=50,\n",
       "             enable_categorical=False, eval_metric=None, feature_types=None,\n",
       "             gamma=None, grow_policy=None, importance_type=None,\n",
       "             interaction_constraints=None, learning_rate=0.01, max_bin=None,\n",
       "             max_cat_threshold=None, max_cat_to_onehot=None,\n",
       "             max_delta_step=None, max_depth=None, max_leaves=None,\n",
       "             min_child_weight=None, missing=nan, monotone_constraints=None,\n",
       "             multi_strategy=None, n_estimators=1000, n_jobs=None,\n",
       "             num_parallel_tree=None, random_state=None, ...)</pre></div></div></div></div></div>"
      ],
      "text/plain": [
       "XGBRegressor(base_score=None, booster=None, callbacks=None,\n",
       "             colsample_bylevel=None, colsample_bynode=None,\n",
       "             colsample_bytree=None, device=None, early_stopping_rounds=50,\n",
       "             enable_categorical=False, eval_metric=None, feature_types=None,\n",
       "             gamma=None, grow_policy=None, importance_type=None,\n",
       "             interaction_constraints=None, learning_rate=0.01, max_bin=None,\n",
       "             max_cat_threshold=None, max_cat_to_onehot=None,\n",
       "             max_delta_step=None, max_depth=None, max_leaves=None,\n",
       "             min_child_weight=None, missing=nan, monotone_constraints=None,\n",
       "             multi_strategy=None, n_estimators=1000, n_jobs=None,\n",
       "             num_parallel_tree=None, random_state=None, ...)"
      ]
     },
     "execution_count": 168,
     "metadata": {},
     "output_type": "execute_result"
    }
   ],
   "source": [
    "reg = xgb.XGBRegressor(n_estimators=1000, early_stopping_rounds=50, learning_rate = 0.01)\n",
    "reg.fit(X_train, Y_train, \n",
    "        eval_set=[(X_train, Y_train), (X_test, Y_Test)],\n",
    "        verbose=100)"
   ]
  },
  {
   "cell_type": "markdown",
   "metadata": {},
   "source": [
    "Feature Importance"
   ]
  },
  {
   "cell_type": "code",
   "execution_count": 169,
   "metadata": {},
   "outputs": [
    {
     "data": {
      "text/plain": [
       "['hour', 'dayOfWeek', 'quarter', 'month', 'year', 'dayOfYear']"
      ]
     },
     "execution_count": 169,
     "metadata": {},
     "output_type": "execute_result"
    }
   ],
   "source": [
    "FEATURES"
   ]
  },
  {
   "cell_type": "code",
   "execution_count": 170,
   "metadata": {},
   "outputs": [],
   "source": [
    "fi = pd.DataFrame(data=reg.feature_importances_, index=reg.feature_names_in_, columns=['Importance'])"
   ]
  },
  {
   "cell_type": "code",
   "execution_count": 171,
   "metadata": {},
   "outputs": [
    {
     "data": {
      "text/plain": [
       "<Axes: title={'center': 'Feature Importance'}>"
      ]
     },
     "execution_count": 171,
     "metadata": {},
     "output_type": "execute_result"
    },
    {
     "data": {
      "image/png": "[encoded data removed]",
      "text/plain": [
       "<Figure size 640x480 with 1 Axes>"
      ]
     },
     "metadata": {},
     "output_type": "display_data"
    }
   ],
   "source": [
    "fi.sort_values('Importance').plot(kind='barh', title=\"Feature Importance\")"
   ]
  },
  {
   "cell_type": "markdown",
   "metadata": {},
   "source": [
    "# Forecast on test set "
   ]
  },
  {
   "cell_type": "code",
   "execution_count": 172,
   "metadata": {},
   "outputs": [],
   "source": [
    "test['prediction'] = reg.predict(X_test)"
   ]
  },
  {
   "cell_type": "code",
   "execution_count": 173,
   "metadata": {},
   "outputs": [],
   "source": [
    "df= df.merge(test[['prediction']], how='left', left_index=True, right_index=True)"
   ]
  },
  {
   "cell_type": "code",
   "execution_count": 174,
   "metadata": {},
   "outputs": [
    {
     "data": {
      "application/vnd.microsoft.datawrangler.viewer.v0+json": {
       "columns": [
        {
         "name": "Datetime",
         "rawType": "datetime64[ns]",
         "type": "datetime"
        },
        {
         "name": "PJME_MW",
         "rawType": "float64",
         "type": "float"
        },
        {
         "name": "hour",
         "rawType": "int32",
         "type": "integer"
        },
        {
         "name": "dayOfWeek",
         "rawType": "int32",
         "type": "integer"
        },
        {
         "name": "quarter",
         "rawType": "int32",
         "type": "integer"
        },
        {
         "name": "month",
         "rawType": "int32",
         "type": "integer"
        },
        {
         "name": "year",
         "rawType": "int32",
         "type": "integer"
        },
        {
         "name": "dayOfYear",
         "rawType": "int32",
         "type": "integer"
        },
        {
         "name": "prediction",
         "rawType": "float32",
         "type": "float"
        }
       ],
       "conversionMethod": "pd.DataFrame",
       "ref": "fb99e30a-41f5-4054-a82c-c2d5241e10e2",
       "rows": [
        [
         "2002-12-31 01:00:00",
         "26498.0",
         "1",
         "1",
         "4",
         "12",
         "2002",
         "365",
         null
        ],
        [
         "2002-12-31 02:00:00",
         "25147.0",
         "2",
         "1",
         "4",
         "12",
         "2002",
         "365",
         null
        ],
        [
         "2002-12-31 03:00:00",
         "24574.0",
         "3",
         "1",
         "4",
         "12",
         "2002",
         "365",
         null
        ],
        [
         "2002-12-31 04:00:00",
         "24393.0",
         "4",
         "1",
         "4",
         "12",
         "2002",
         "365",
         null
        ],
        [
         "2002-12-31 05:00:00",
         "24860.0",
         "5",
         "1",
         "4",
         "12",
         "2002",
         "365",
         null
        ],
        [
         "2002-12-31 06:00:00",
         "26222.0",
         "6",
         "1",
         "4",
         "12",
         "2002",
         "365",
         null
        ],
        [
         "2002-12-31 07:00:00",
         "28702.0",
         "7",
         "1",
         "4",
         "12",
         "2002",
         "365",
         null
        ],
        [
         "2002-12-31 08:00:00",
         "30698.0",
         "8",
         "1",
         "4",
         "12",
         "2002",
         "365",
         null
        ],
        [
         "2002-12-31 09:00:00",
         "31800.0",
         "9",
         "1",
         "4",
         "12",
         "2002",
         "365",
         null
        ],
        [
         "2002-12-31 10:00:00",
         "32359.0",
         "10",
         "1",
         "4",
         "12",
         "2002",
         "365",
         null
        ],
        [
         "2002-12-31 11:00:00",
         "32371.0",
         "11",
         "1",
         "4",
         "12",
         "2002",
         "365",
         null
        ],
        [
         "2002-12-31 12:00:00",
         "31902.0",
         "12",
         "1",
         "4",
         "12",
         "2002",
         "365",
         null
        ],
        [
         "2002-12-31 13:00:00",
         "31126.0",
         "13",
         "1",
         "4",
         "12",
         "2002",
         "365",
         null
        ],
        [
         "2002-12-31 14:00:00",
         "30368.0",
         "14",
         "1",
         "4",
         "12",
         "2002",
         "365",
         null
        ],
        [
         "2002-12-31 15:00:00",
         "29564.0",
         "15",
         "1",
         "4",
         "12",
         "2002",
         "365",
         null
        ],
        [
         "2002-12-31 16:00:00",
         "29098.0",
         "16",
         "1",
         "4",
         "12",
         "2002",
         "365",
         null
        ],
        [
         "2002-12-31 17:00:00",
         "30308.0",
         "17",
         "1",
         "4",
         "12",
         "2002",
         "365",
         null
        ],
        [
         "2002-12-31 18:00:00",
         "34017.0",
         "18",
         "1",
         "4",
         "12",
         "2002",
         "365",
         null
        ],
        [
         "2002-12-31 19:00:00",
         "34195.0",
         "19",
         "1",
         "4",
         "12",
         "2002",
         "365",
         null
        ],
        [
         "2002-12-31 20:00:00",
         "32790.0",
         "20",
         "1",
         "4",
         "12",
         "2002",
         "365",
         null
        ],
        [
         "2002-12-31 21:00:00",
         "31336.0",
         "21",
         "1",
         "4",
         "12",
         "2002",
         "365",
         null
        ],
        [
         "2002-12-31 22:00:00",
         "29887.0",
         "22",
         "1",
         "4",
         "12",
         "2002",
         "365",
         null
        ],
        [
         "2002-12-31 23:00:00",
         "28483.0",
         "23",
         "1",
         "4",
         "12",
         "2002",
         "365",
         null
        ],
        [
         "2003-01-01 00:00:00",
         "27008.0",
         "0",
         "2",
         "1",
         "1",
         "2003",
         "1",
         null
        ],
        [
         "2002-12-30 01:00:00",
         "27526.0",
         "1",
         "0",
         "4",
         "12",
         "2002",
         "364",
         null
        ],
        [
         "2002-12-30 02:00:00",
         "26600.0",
         "2",
         "0",
         "4",
         "12",
         "2002",
         "364",
         null
        ],
        [
         "2002-12-30 03:00:00",
         "26241.0",
         "3",
         "0",
         "4",
         "12",
         "2002",
         "364",
         null
        ],
        [
         "2002-12-30 04:00:00",
         "26213.0",
         "4",
         "0",
         "4",
         "12",
         "2002",
         "364",
         null
        ],
        [
         "2002-12-30 05:00:00",
         "26871.0",
         "5",
         "0",
         "4",
         "12",
         "2002",
         "364",
         null
        ],
        [
         "2002-12-30 06:00:00",
         "28679.0",
         "6",
         "0",
         "4",
         "12",
         "2002",
         "364",
         null
        ],
        [
         "2002-12-30 07:00:00",
         "31509.0",
         "7",
         "0",
         "4",
         "12",
         "2002",
         "364",
         null
        ],
        [
         "2002-12-30 08:00:00",
         "33665.0",
         "8",
         "0",
         "4",
         "12",
         "2002",
         "364",
         null
        ],
        [
         "2002-12-30 09:00:00",
         "34625.0",
         "9",
         "0",
         "4",
         "12",
         "2002",
         "364",
         null
        ],
        [
         "2002-12-30 10:00:00",
         "34655.0",
         "10",
         "0",
         "4",
         "12",
         "2002",
         "364",
         null
        ],
        [
         "2002-12-30 11:00:00",
         "34295.0",
         "11",
         "0",
         "4",
         "12",
         "2002",
         "364",
         null
        ],
        [
         "2002-12-30 12:00:00",
         "33711.0",
         "12",
         "0",
         "4",
         "12",
         "2002",
         "364",
         null
        ],
        [
         "2002-12-30 13:00:00",
         "33087.0",
         "13",
         "0",
         "4",
         "12",
         "2002",
         "364",
         null
        ],
        [
         "2002-12-30 14:00:00",
         "32668.0",
         "14",
         "0",
         "4",
         "12",
         "2002",
         "364",
         null
        ],
        [
         "2002-12-30 15:00:00",
         "32380.0",
         "15",
         "0",
         "4",
         "12",
         "2002",
         "364",
         null
        ],
        [
         "2002-12-30 16:00:00",
         "32484.0",
         "16",
         "0",
         "4",
         "12",
         "2002",
         "364",
         null
        ],
        [
         "2002-12-30 17:00:00",
         "34076.0",
         "17",
         "0",
         "4",
         "12",
         "2002",
         "364",
         null
        ],
        [
         "2002-12-30 18:00:00",
         "36979.0",
         "18",
         "0",
         "4",
         "12",
         "2002",
         "364",
         null
        ],
        [
         "2002-12-30 19:00:00",
         "37106.0",
         "19",
         "0",
         "4",
         "12",
         "2002",
         "364",
         null
        ],
        [
         "2002-12-30 20:00:00",
         "36492.0",
         "20",
         "0",
         "4",
         "12",
         "2002",
         "364",
         null
        ],
        [
         "2002-12-30 21:00:00",
         "35468.0",
         "21",
         "0",
         "4",
         "12",
         "2002",
         "364",
         null
        ],
        [
         "2002-12-30 22:00:00",
         "33944.0",
         "22",
         "0",
         "4",
         "12",
         "2002",
         "364",
         null
        ],
        [
         "2002-12-30 23:00:00",
         "31619.0",
         "23",
         "0",
         "4",
         "12",
         "2002",
         "364",
         null
        ],
        [
         "2002-12-31 00:00:00",
         "28765.0",
         "0",
         "1",
         "4",
         "12",
         "2002",
         "365",
         null
        ],
        [
         "2002-12-29 01:00:00",
         "27084.0",
         "1",
         "6",
         "4",
         "12",
         "2002",
         "363",
         null
        ],
        [
         "2002-12-29 02:00:00",
         "25836.0",
         "2",
         "6",
         "4",
         "12",
         "2002",
         "363",
         null
        ]
       ],
       "shape": {
        "columns": 8,
        "rows": 145362
       }
      },
      "text/html": [
       "<div>\n",
       "<style scoped>\n",
       "    .dataframe tbody tr th:only-of-type {\n",
       "        vertical-align: middle;\n",
       "    }\n",
       "\n",
       "    .dataframe tbody tr th {\n",
       "        vertical-align: top;\n",
       "    }\n",
       "\n",
       "    .dataframe thead th {\n",
       "        text-align: right;\n",
       "    }\n",
       "</style>\n",
       "<table border=\"1\" class=\"dataframe\">\n",
       "  <thead>\n",
       "    <tr style=\"text-align: right;\">\n",
       "      <th></th>\n",
       "      <th>PJME_MW</th>\n",
       "      <th>hour</th>\n",
       "      <th>dayOfWeek</th>\n",
       "      <th>quarter</th>\n",
       "      <th>month</th>\n",
       "      <th>year</th>\n",
       "      <th>dayOfYear</th>\n",
       "      <th>prediction</th>\n",
       "    </tr>\n",
       "    <tr>\n",
       "      <th>Datetime</th>\n",
       "      <th></th>\n",
       "      <th></th>\n",
       "      <th></th>\n",
       "      <th></th>\n",
       "      <th></th>\n",
       "      <th></th>\n",
       "      <th></th>\n",
       "      <th></th>\n",
       "    </tr>\n",
       "  </thead>\n",
       "  <tbody>\n",
       "    <tr>\n",
       "      <th>2002-12-31 01:00:00</th>\n",
       "      <td>26498.0</td>\n",
       "      <td>1</td>\n",
       "      <td>1</td>\n",
       "      <td>4</td>\n",
       "      <td>12</td>\n",
       "      <td>2002</td>\n",
       "      <td>365</td>\n",
       "      <td>NaN</td>\n",
       "    </tr>\n",
       "    <tr>\n",
       "      <th>2002-12-31 02:00:00</th>\n",
       "      <td>25147.0</td>\n",
       "      <td>2</td>\n",
       "      <td>1</td>\n",
       "      <td>4</td>\n",
       "      <td>12</td>\n",
       "      <td>2002</td>\n",
       "      <td>365</td>\n",
       "      <td>NaN</td>\n",
       "    </tr>\n",
       "    <tr>\n",
       "      <th>2002-12-31 03:00:00</th>\n",
       "      <td>24574.0</td>\n",
       "      <td>3</td>\n",
       "      <td>1</td>\n",
       "      <td>4</td>\n",
       "      <td>12</td>\n",
       "      <td>2002</td>\n",
       "      <td>365</td>\n",
       "      <td>NaN</td>\n",
       "    </tr>\n",
       "    <tr>\n",
       "      <th>2002-12-31 04:00:00</th>\n",
       "      <td>24393.0</td>\n",
       "      <td>4</td>\n",
       "      <td>1</td>\n",
       "      <td>4</td>\n",
       "      <td>12</td>\n",
       "      <td>2002</td>\n",
       "      <td>365</td>\n",
       "      <td>NaN</td>\n",
       "    </tr>\n",
       "    <tr>\n",
       "      <th>2002-12-31 05:00:00</th>\n",
       "      <td>24860.0</td>\n",
       "      <td>5</td>\n",
       "      <td>1</td>\n",
       "      <td>4</td>\n",
       "      <td>12</td>\n",
       "      <td>2002</td>\n",
       "      <td>365</td>\n",
       "      <td>NaN</td>\n",
       "    </tr>\n",
       "    <tr>\n",
       "      <th>...</th>\n",
       "      <td>...</td>\n",
       "      <td>...</td>\n",
       "      <td>...</td>\n",
       "      <td>...</td>\n",
       "      <td>...</td>\n",
       "      <td>...</td>\n",
       "      <td>...</td>\n",
       "      <td>...</td>\n",
       "    </tr>\n",
       "    <tr>\n",
       "      <th>2018-01-01 20:00:00</th>\n",
       "      <td>44284.0</td>\n",
       "      <td>20</td>\n",
       "      <td>0</td>\n",
       "      <td>1</td>\n",
       "      <td>1</td>\n",
       "      <td>2018</td>\n",
       "      <td>1</td>\n",
       "      <td>38592.523438</td>\n",
       "    </tr>\n",
       "    <tr>\n",
       "      <th>2018-01-01 21:00:00</th>\n",
       "      <td>43751.0</td>\n",
       "      <td>21</td>\n",
       "      <td>0</td>\n",
       "      <td>1</td>\n",
       "      <td>1</td>\n",
       "      <td>2018</td>\n",
       "      <td>1</td>\n",
       "      <td>38464.507812</td>\n",
       "    </tr>\n",
       "    <tr>\n",
       "      <th>2018-01-01 22:00:00</th>\n",
       "      <td>42402.0</td>\n",
       "      <td>22</td>\n",
       "      <td>0</td>\n",
       "      <td>1</td>\n",
       "      <td>1</td>\n",
       "      <td>2018</td>\n",
       "      <td>1</td>\n",
       "      <td>36287.062500</td>\n",
       "    </tr>\n",
       "    <tr>\n",
       "      <th>2018-01-01 23:00:00</th>\n",
       "      <td>40164.0</td>\n",
       "      <td>23</td>\n",
       "      <td>0</td>\n",
       "      <td>1</td>\n",
       "      <td>1</td>\n",
       "      <td>2018</td>\n",
       "      <td>1</td>\n",
       "      <td>35112.570312</td>\n",
       "    </tr>\n",
       "    <tr>\n",
       "      <th>2018-01-02 00:00:00</th>\n",
       "      <td>38608.0</td>\n",
       "      <td>0</td>\n",
       "      <td>1</td>\n",
       "      <td>1</td>\n",
       "      <td>1</td>\n",
       "      <td>2018</td>\n",
       "      <td>2</td>\n",
       "      <td>32393.414062</td>\n",
       "    </tr>\n",
       "  </tbody>\n",
       "</table>\n",
       "<p>145362 rows × 8 columns</p>\n",
       "</div>"
      ],
      "text/plain": [
       "                     PJME_MW  hour  dayOfWeek  quarter  month  year  \\\n",
       "Datetime                                                              \n",
       "2002-12-31 01:00:00  26498.0     1          1        4     12  2002   \n",
       "2002-12-31 02:00:00  25147.0     2          1        4     12  2002   \n",
       "2002-12-31 03:00:00  24574.0     3          1        4     12  2002   \n",
       "2002-12-31 04:00:00  24393.0     4          1        4     12  2002   \n",
       "2002-12-31 05:00:00  24860.0     5          1        4     12  2002   \n",
       "...                      ...   ...        ...      ...    ...   ...   \n",
       "2018-01-01 20:00:00  44284.0    20          0        1      1  2018   \n",
       "2018-01-01 21:00:00  43751.0    21          0        1      1  2018   \n",
       "2018-01-01 22:00:00  42402.0    22          0        1      1  2018   \n",
       "2018-01-01 23:00:00  40164.0    23          0        1      1  2018   \n",
       "2018-01-02 00:00:00  38608.0     0          1        1      1  2018   \n",
       "\n",
       "                     dayOfYear    prediction  \n",
       "Datetime                                      \n",
       "2002-12-31 01:00:00        365           NaN  \n",
       "2002-12-31 02:00:00        365           NaN  \n",
       "2002-12-31 03:00:00        365           NaN  \n",
       "2002-12-31 04:00:00        365           NaN  \n",
       "2002-12-31 05:00:00        365           NaN  \n",
       "...                        ...           ...  \n",
       "2018-01-01 20:00:00          1  38592.523438  \n",
       "2018-01-01 21:00:00          1  38464.507812  \n",
       "2018-01-01 22:00:00          1  36287.062500  \n",
       "2018-01-01 23:00:00          1  35112.570312  \n",
       "2018-01-02 00:00:00          2  32393.414062  \n",
       "\n",
       "[145362 rows x 8 columns]"
      ]
     },
     "execution_count": 174,
     "metadata": {},
     "output_type": "execute_result"
    }
   ],
   "source": [
    "df"
   ]
  },
  {
   "cell_type": "code",
   "execution_count": 175,
   "metadata": {},
   "outputs": [
    {
     "data": {
      "image/png": "[encoded data removed]",
      "text/plain": [
       "<Figure size 1500x500 with 1 Axes>"
      ]
     },
     "metadata": {},
     "output_type": "display_data"
    }
   ],
   "source": [
    "# Plot Datetime VS PJME_MW \n",
    "ax = df[['PJME_MW']].plot(figsize=(15,5))\n",
    "df['prediction'].plot(ax=ax, style='.')\n",
    "plt.legend(['Truth Data', 'Predictions'])\n",
    "ax.set_title(\"Prediction vs Reality\")\n",
    "plt.show()"
   ]
  },
  {
   "cell_type": "code",
   "execution_count": 176,
   "metadata": {},
   "outputs": [
    {
     "data": {
      "image/png": "[encoded data removed]",
      "text/plain": [
       "<Figure size 1500x500 with 1 Axes>"
      ]
     },
     "metadata": {},
     "output_type": "display_data"
    }
   ],
   "source": [
    "ax = df.loc[(df.index > '01-01-2018') & (df.index < '01-08-2018')]['PJME_MW'].plot(figsize=(15,5))\n",
    "df.loc[(df.index > '01-01-2018') & (df.index < '01-08-2018')]['prediction'].plot(style='.')\n",
    "# df['prediction']\n",
    "plt.legend(['Truth Data', 'Predictions'])\n",
    "ax.set_title(\"Prediction vs Reality\")\n",
    "plt.show()\n"
   ]
  },
  {
   "cell_type": "code",
   "execution_count": 177,
   "metadata": {},
   "outputs": [
    {
     "data": {
      "text/plain": [
       "3734.9144426391413"
      ]
     },
     "execution_count": 177,
     "metadata": {},
     "output_type": "execute_result"
    }
   ],
   "source": [
    "np.sqrt(mean_squared_error(test['PJME_MW'], test['prediction']))"
   ]
  },
  {
   "cell_type": "markdown",
   "metadata": {},
   "source": [
    "# Calculate Error"
   ]
  },
  {
   "cell_type": "code",
   "execution_count": 183,
   "metadata": {},
   "outputs": [
    {
     "data": {
      "text/plain": [
       "['PJME_MW']"
      ]
     },
     "execution_count": 183,
     "metadata": {},
     "output_type": "execute_result"
    }
   ],
   "source": [
    "TARGET"
   ]
  },
  {
   "cell_type": "code",
   "execution_count": 185,
   "metadata": {},
   "outputs": [],
   "source": [
    "test['error'] = np.abs(test['PJME_MW'].sub(test['prediction']))"
   ]
  },
  {
   "cell_type": "code",
   "execution_count": 186,
   "metadata": {},
   "outputs": [
    {
     "data": {
      "application/vnd.microsoft.datawrangler.viewer.v0+json": {
       "columns": [
        {
         "name": "Datetime",
         "rawType": "datetime64[ns]",
         "type": "datetime"
        },
        {
         "name": "PJME_MW",
         "rawType": "float64",
         "type": "float"
        },
        {
         "name": "hour",
         "rawType": "int32",
         "type": "integer"
        },
        {
         "name": "dayOfWeek",
         "rawType": "int32",
         "type": "integer"
        },
        {
         "name": "quarter",
         "rawType": "int32",
         "type": "integer"
        },
        {
         "name": "month",
         "rawType": "int32",
         "type": "integer"
        },
        {
         "name": "year",
         "rawType": "int32",
         "type": "integer"
        },
        {
         "name": "dayOfYear",
         "rawType": "int32",
         "type": "integer"
        },
        {
         "name": "prediction",
         "rawType": "float32",
         "type": "float"
        },
        {
         "name": "error",
         "rawType": "float64",
         "type": "float"
        }
       ],
       "conversionMethod": "pd.DataFrame",
       "ref": "fb6df2b1-0f77-430b-8f44-fc68648dff48",
       "rows": [
        [
         "2015-01-01 00:00:00",
         "32802.0",
         "0",
         "3",
         "1",
         "1",
         "2015",
         "1",
         "32443.346",
         "358.654296875"
        ],
        [
         "2015-12-31 01:00:00",
         "24305.0",
         "1",
         "3",
         "4",
         "12",
         "2015",
         "365",
         "28960.805",
         "4655.8046875"
        ],
        [
         "2015-12-31 02:00:00",
         "23156.0",
         "2",
         "3",
         "4",
         "12",
         "2015",
         "365",
         "27791.178",
         "4635.177734375"
        ],
        [
         "2015-12-31 03:00:00",
         "22514.0",
         "3",
         "3",
         "4",
         "12",
         "2015",
         "365",
         "27539.104",
         "5025.103515625"
        ],
        [
         "2015-12-31 04:00:00",
         "22330.0",
         "4",
         "3",
         "4",
         "12",
         "2015",
         "365",
         "27539.104",
         "5209.103515625"
        ],
        [
         "2015-12-31 05:00:00",
         "22773.0",
         "5",
         "3",
         "4",
         "12",
         "2015",
         "365",
         "27576.438",
         "4803.4375"
        ],
        [
         "2015-12-31 06:00:00",
         "24106.0",
         "6",
         "3",
         "4",
         "12",
         "2015",
         "365",
         "29094.037",
         "4988.037109375"
        ],
        [
         "2015-12-31 07:00:00",
         "26129.0",
         "7",
         "3",
         "4",
         "12",
         "2015",
         "365",
         "32526.834",
         "6397.833984375"
        ],
        [
         "2015-12-31 08:00:00",
         "27660.0",
         "8",
         "3",
         "4",
         "12",
         "2015",
         "365",
         "33361.086",
         "5701.0859375"
        ],
        [
         "2015-12-31 09:00:00",
         "28461.0",
         "9",
         "3",
         "4",
         "12",
         "2015",
         "365",
         "33598.92",
         "5137.921875"
        ],
        [
         "2015-12-31 10:00:00",
         "29195.0",
         "10",
         "3",
         "4",
         "12",
         "2015",
         "365",
         "33694.344",
         "4499.34375"
        ],
        [
         "2015-12-31 11:00:00",
         "29459.0",
         "11",
         "3",
         "4",
         "12",
         "2015",
         "365",
         "33310.96",
         "3851.9609375"
        ],
        [
         "2015-12-31 12:00:00",
         "29461.0",
         "12",
         "3",
         "4",
         "12",
         "2015",
         "365",
         "33310.96",
         "3849.9609375"
        ],
        [
         "2015-12-31 13:00:00",
         "29195.0",
         "13",
         "3",
         "4",
         "12",
         "2015",
         "365",
         "33287.543",
         "4092.54296875"
        ],
        [
         "2015-12-31 14:00:00",
         "28902.0",
         "14",
         "3",
         "4",
         "12",
         "2015",
         "365",
         "33287.543",
         "4385.54296875"
        ],
        [
         "2015-12-31 15:00:00",
         "28740.0",
         "15",
         "3",
         "4",
         "12",
         "2015",
         "365",
         "33287.543",
         "4547.54296875"
        ],
        [
         "2015-12-31 16:00:00",
         "29048.0",
         "16",
         "3",
         "4",
         "12",
         "2015",
         "365",
         "33439.49",
         "4391.48828125"
        ],
        [
         "2015-12-31 17:00:00",
         "30774.0",
         "17",
         "3",
         "4",
         "12",
         "2015",
         "365",
         "34478.93",
         "3704.9296875"
        ],
        [
         "2015-12-31 18:00:00",
         "33130.0",
         "18",
         "3",
         "4",
         "12",
         "2015",
         "365",
         "36888.965",
         "3758.96484375"
        ],
        [
         "2015-12-31 19:00:00",
         "32732.0",
         "19",
         "3",
         "4",
         "12",
         "2015",
         "365",
         "36888.965",
         "4156.96484375"
        ],
        [
         "2015-12-31 20:00:00",
         "31564.0",
         "20",
         "3",
         "4",
         "12",
         "2015",
         "365",
         "36888.965",
         "5324.96484375"
        ],
        [
         "2015-12-31 21:00:00",
         "30404.0",
         "21",
         "3",
         "4",
         "12",
         "2015",
         "365",
         "36838.92",
         "6434.921875"
        ],
        [
         "2015-12-31 22:00:00",
         "29210.0",
         "22",
         "3",
         "4",
         "12",
         "2015",
         "365",
         "34640.67",
         "5430.671875"
        ],
        [
         "2015-12-31 23:00:00",
         "27944.0",
         "23",
         "3",
         "4",
         "12",
         "2015",
         "365",
         "32680.5",
         "4736.5"
        ],
        [
         "2016-01-01 00:00:00",
         "26686.0",
         "0",
         "4",
         "1",
         "1",
         "2016",
         "1",
         "32443.346",
         "5757.345703125"
        ],
        [
         "2015-12-30 01:00:00",
         "24845.0",
         "1",
         "2",
         "4",
         "12",
         "2015",
         "364",
         "28960.805",
         "4115.8046875"
        ],
        [
         "2015-12-30 02:00:00",
         "23791.0",
         "2",
         "2",
         "4",
         "12",
         "2015",
         "364",
         "27791.178",
         "4000.177734375"
        ],
        [
         "2015-12-30 03:00:00",
         "23249.0",
         "3",
         "2",
         "4",
         "12",
         "2015",
         "364",
         "27539.104",
         "4290.103515625"
        ],
        [
         "2015-12-30 04:00:00",
         "23077.0",
         "4",
         "2",
         "4",
         "12",
         "2015",
         "364",
         "27539.104",
         "4462.103515625"
        ],
        [
         "2015-12-30 05:00:00",
         "23598.0",
         "5",
         "2",
         "4",
         "12",
         "2015",
         "364",
         "27576.438",
         "3978.4375"
        ],
        [
         "2015-12-30 06:00:00",
         "25127.0",
         "6",
         "2",
         "4",
         "12",
         "2015",
         "364",
         "29094.037",
         "3967.037109375"
        ],
        [
         "2015-12-30 07:00:00",
         "27438.0",
         "7",
         "2",
         "4",
         "12",
         "2015",
         "364",
         "32534.178",
         "5096.177734375"
        ],
        [
         "2015-12-30 08:00:00",
         "29159.0",
         "8",
         "2",
         "4",
         "12",
         "2015",
         "364",
         "33368.43",
         "4209.4296875"
        ],
        [
         "2015-12-30 09:00:00",
         "29948.0",
         "9",
         "2",
         "4",
         "12",
         "2015",
         "364",
         "33606.266",
         "3658.265625"
        ],
        [
         "2015-12-30 10:00:00",
         "30649.0",
         "10",
         "2",
         "4",
         "12",
         "2015",
         "364",
         "33701.688",
         "3052.6875"
        ],
        [
         "2015-12-30 11:00:00",
         "31117.0",
         "11",
         "2",
         "4",
         "12",
         "2015",
         "364",
         "33436.656",
         "2319.65625"
        ],
        [
         "2015-12-30 12:00:00",
         "31223.0",
         "12",
         "2",
         "4",
         "12",
         "2015",
         "364",
         "33436.656",
         "2213.65625"
        ],
        [
         "2015-12-30 13:00:00",
         "31050.0",
         "13",
         "2",
         "4",
         "12",
         "2015",
         "364",
         "33413.24",
         "2363.23828125"
        ],
        [
         "2015-12-30 14:00:00",
         "30985.0",
         "14",
         "2",
         "4",
         "12",
         "2015",
         "364",
         "33413.24",
         "2428.23828125"
        ],
        [
         "2015-12-30 15:00:00",
         "30822.0",
         "15",
         "2",
         "4",
         "12",
         "2015",
         "364",
         "33413.24",
         "2591.23828125"
        ],
        [
         "2015-12-30 16:00:00",
         "30913.0",
         "16",
         "2",
         "4",
         "12",
         "2015",
         "364",
         "33565.184",
         "2652.18359375"
        ],
        [
         "2015-12-30 17:00:00",
         "32260.0",
         "17",
         "2",
         "4",
         "12",
         "2015",
         "364",
         "34629.15",
         "2369.1484375"
        ],
        [
         "2015-12-30 18:00:00",
         "33851.0",
         "18",
         "2",
         "4",
         "12",
         "2015",
         "364",
         "37039.184",
         "3188.18359375"
        ],
        [
         "2015-12-30 19:00:00",
         "33477.0",
         "19",
         "2",
         "4",
         "12",
         "2015",
         "364",
         "37039.184",
         "3562.18359375"
        ],
        [
         "2015-12-30 20:00:00",
         "32674.0",
         "20",
         "2",
         "4",
         "12",
         "2015",
         "364",
         "37039.184",
         "4365.18359375"
        ],
        [
         "2015-12-30 21:00:00",
         "31800.0",
         "21",
         "2",
         "4",
         "12",
         "2015",
         "364",
         "36989.14",
         "5189.140625"
        ],
        [
         "2015-12-30 22:00:00",
         "30323.0",
         "22",
         "2",
         "4",
         "12",
         "2015",
         "364",
         "34790.89",
         "4467.890625"
        ],
        [
         "2015-12-30 23:00:00",
         "28311.0",
         "23",
         "2",
         "4",
         "12",
         "2015",
         "364",
         "32830.72",
         "4519.71875"
        ],
        [
         "2015-12-31 00:00:00",
         "26101.0",
         "0",
         "3",
         "4",
         "12",
         "2015",
         "365",
         "30095.275",
         "3994.275390625"
        ],
        [
         "2015-12-29 01:00:00",
         "26443.0",
         "1",
         "1",
         "4",
         "12",
         "2015",
         "363",
         "28879.703",
         "2436.703125"
        ]
       ],
       "shape": {
        "columns": 9,
        "rows": 31437
       }
      },
      "text/html": [
       "<div>\n",
       "<style scoped>\n",
       "    .dataframe tbody tr th:only-of-type {\n",
       "        vertical-align: middle;\n",
       "    }\n",
       "\n",
       "    .dataframe tbody tr th {\n",
       "        vertical-align: top;\n",
       "    }\n",
       "\n",
       "    .dataframe thead th {\n",
       "        text-align: right;\n",
       "    }\n",
       "</style>\n",
       "<table border=\"1\" class=\"dataframe\">\n",
       "  <thead>\n",
       "    <tr style=\"text-align: right;\">\n",
       "      <th></th>\n",
       "      <th>PJME_MW</th>\n",
       "      <th>hour</th>\n",
       "      <th>dayOfWeek</th>\n",
       "      <th>quarter</th>\n",
       "      <th>month</th>\n",
       "      <th>year</th>\n",
       "      <th>dayOfYear</th>\n",
       "      <th>prediction</th>\n",
       "      <th>error</th>\n",
       "    </tr>\n",
       "    <tr>\n",
       "      <th>Datetime</th>\n",
       "      <th></th>\n",
       "      <th></th>\n",
       "      <th></th>\n",
       "      <th></th>\n",
       "      <th></th>\n",
       "      <th></th>\n",
       "      <th></th>\n",
       "      <th></th>\n",
       "      <th></th>\n",
       "    </tr>\n",
       "  </thead>\n",
       "  <tbody>\n",
       "    <tr>\n",
       "      <th>2015-01-01 00:00:00</th>\n",
       "      <td>32802.0</td>\n",
       "      <td>0</td>\n",
       "      <td>3</td>\n",
       "      <td>1</td>\n",
       "      <td>1</td>\n",
       "      <td>2015</td>\n",
       "      <td>1</td>\n",
       "      <td>32443.345703</td>\n",
       "      <td>358.654297</td>\n",
       "    </tr>\n",
       "    <tr>\n",
       "      <th>2015-12-31 01:00:00</th>\n",
       "      <td>24305.0</td>\n",
       "      <td>1</td>\n",
       "      <td>3</td>\n",
       "      <td>4</td>\n",
       "      <td>12</td>\n",
       "      <td>2015</td>\n",
       "      <td>365</td>\n",
       "      <td>28960.804688</td>\n",
       "      <td>4655.804688</td>\n",
       "    </tr>\n",
       "    <tr>\n",
       "      <th>2015-12-31 02:00:00</th>\n",
       "      <td>23156.0</td>\n",
       "      <td>2</td>\n",
       "      <td>3</td>\n",
       "      <td>4</td>\n",
       "      <td>12</td>\n",
       "      <td>2015</td>\n",
       "      <td>365</td>\n",
       "      <td>27791.177734</td>\n",
       "      <td>4635.177734</td>\n",
       "    </tr>\n",
       "    <tr>\n",
       "      <th>2015-12-31 03:00:00</th>\n",
       "      <td>22514.0</td>\n",
       "      <td>3</td>\n",
       "      <td>3</td>\n",
       "      <td>4</td>\n",
       "      <td>12</td>\n",
       "      <td>2015</td>\n",
       "      <td>365</td>\n",
       "      <td>27539.103516</td>\n",
       "      <td>5025.103516</td>\n",
       "    </tr>\n",
       "    <tr>\n",
       "      <th>2015-12-31 04:00:00</th>\n",
       "      <td>22330.0</td>\n",
       "      <td>4</td>\n",
       "      <td>3</td>\n",
       "      <td>4</td>\n",
       "      <td>12</td>\n",
       "      <td>2015</td>\n",
       "      <td>365</td>\n",
       "      <td>27539.103516</td>\n",
       "      <td>5209.103516</td>\n",
       "    </tr>\n",
       "    <tr>\n",
       "      <th>...</th>\n",
       "      <td>...</td>\n",
       "      <td>...</td>\n",
       "      <td>...</td>\n",
       "      <td>...</td>\n",
       "      <td>...</td>\n",
       "      <td>...</td>\n",
       "      <td>...</td>\n",
       "      <td>...</td>\n",
       "      <td>...</td>\n",
       "    </tr>\n",
       "    <tr>\n",
       "      <th>2018-01-01 20:00:00</th>\n",
       "      <td>44284.0</td>\n",
       "      <td>20</td>\n",
       "      <td>0</td>\n",
       "      <td>1</td>\n",
       "      <td>1</td>\n",
       "      <td>2018</td>\n",
       "      <td>1</td>\n",
       "      <td>38592.523438</td>\n",
       "      <td>5691.476562</td>\n",
       "    </tr>\n",
       "    <tr>\n",
       "      <th>2018-01-01 21:00:00</th>\n",
       "      <td>43751.0</td>\n",
       "      <td>21</td>\n",
       "      <td>0</td>\n",
       "      <td>1</td>\n",
       "      <td>1</td>\n",
       "      <td>2018</td>\n",
       "      <td>1</td>\n",
       "      <td>38464.507812</td>\n",
       "      <td>5286.492188</td>\n",
       "    </tr>\n",
       "    <tr>\n",
       "      <th>2018-01-01 22:00:00</th>\n",
       "      <td>42402.0</td>\n",
       "      <td>22</td>\n",
       "      <td>0</td>\n",
       "      <td>1</td>\n",
       "      <td>1</td>\n",
       "      <td>2018</td>\n",
       "      <td>1</td>\n",
       "      <td>36287.062500</td>\n",
       "      <td>6114.937500</td>\n",
       "    </tr>\n",
       "    <tr>\n",
       "      <th>2018-01-01 23:00:00</th>\n",
       "      <td>40164.0</td>\n",
       "      <td>23</td>\n",
       "      <td>0</td>\n",
       "      <td>1</td>\n",
       "      <td>1</td>\n",
       "      <td>2018</td>\n",
       "      <td>1</td>\n",
       "      <td>35112.570312</td>\n",
       "      <td>5051.429688</td>\n",
       "    </tr>\n",
       "    <tr>\n",
       "      <th>2018-01-02 00:00:00</th>\n",
       "      <td>38608.0</td>\n",
       "      <td>0</td>\n",
       "      <td>1</td>\n",
       "      <td>1</td>\n",
       "      <td>1</td>\n",
       "      <td>2018</td>\n",
       "      <td>2</td>\n",
       "      <td>32393.414062</td>\n",
       "      <td>6214.585938</td>\n",
       "    </tr>\n",
       "  </tbody>\n",
       "</table>\n",
       "<p>31437 rows × 9 columns</p>\n",
       "</div>"
      ],
      "text/plain": [
       "                     PJME_MW  hour  dayOfWeek  quarter  month  year  \\\n",
       "Datetime                                                              \n",
       "2015-01-01 00:00:00  32802.0     0          3        1      1  2015   \n",
       "2015-12-31 01:00:00  24305.0     1          3        4     12  2015   \n",
       "2015-12-31 02:00:00  23156.0     2          3        4     12  2015   \n",
       "2015-12-31 03:00:00  22514.0     3          3        4     12  2015   \n",
       "2015-12-31 04:00:00  22330.0     4          3        4     12  2015   \n",
       "...                      ...   ...        ...      ...    ...   ...   \n",
       "2018-01-01 20:00:00  44284.0    20          0        1      1  2018   \n",
       "2018-01-01 21:00:00  43751.0    21          0        1      1  2018   \n",
       "2018-01-01 22:00:00  42402.0    22          0        1      1  2018   \n",
       "2018-01-01 23:00:00  40164.0    23          0        1      1  2018   \n",
       "2018-01-02 00:00:00  38608.0     0          1        1      1  2018   \n",
       "\n",
       "                     dayOfYear    prediction        error  \n",
       "Datetime                                                   \n",
       "2015-01-01 00:00:00          1  32443.345703   358.654297  \n",
       "2015-12-31 01:00:00        365  28960.804688  4655.804688  \n",
       "2015-12-31 02:00:00        365  27791.177734  4635.177734  \n",
       "2015-12-31 03:00:00        365  27539.103516  5025.103516  \n",
       "2015-12-31 04:00:00        365  27539.103516  5209.103516  \n",
       "...                        ...           ...          ...  \n",
       "2018-01-01 20:00:00          1  38592.523438  5691.476562  \n",
       "2018-01-01 21:00:00          1  38464.507812  5286.492188  \n",
       "2018-01-01 22:00:00          1  36287.062500  6114.937500  \n",
       "2018-01-01 23:00:00          1  35112.570312  5051.429688  \n",
       "2018-01-02 00:00:00          2  32393.414062  6214.585938  \n",
       "\n",
       "[31437 rows x 9 columns]"
      ]
     },
     "execution_count": 186,
     "metadata": {},
     "output_type": "execute_result"
    }
   ],
   "source": [
    "test"
   ]
  },
  {
   "cell_type": "markdown",
   "metadata": {},
   "source": [
    "Look at best and worst days"
   ]
  },
  {
   "cell_type": "code",
   "execution_count": 189,
   "metadata": {},
   "outputs": [],
   "source": [
    "test['date'] = test.index.date"
   ]
  },
  {
   "cell_type": "markdown",
   "metadata": {},
   "source": [
    "Worst predicted days"
   ]
  },
  {
   "cell_type": "code",
   "execution_count": 192,
   "metadata": {},
   "outputs": [
    {
     "data": {
      "text/plain": [
       "date\n",
       "2016-08-13    13624.792155\n",
       "2016-08-14    13335.710449\n",
       "2016-09-10    11298.811361\n",
       "2016-09-09    11125.013021\n",
       "2016-08-12    10568.083659\n",
       "Name: error, dtype: float64"
      ]
     },
     "execution_count": 192,
     "metadata": {},
     "output_type": "execute_result"
    }
   ],
   "source": [
    "test.groupby([('date')])['error'].mean().sort_values(ascending=False).head()"
   ]
  },
  {
   "cell_type": "markdown",
   "metadata": {},
   "source": [
    "Best predicted days"
   ]
  },
  {
   "cell_type": "code",
   "execution_count": 193,
   "metadata": {},
   "outputs": [
    {
     "data": {
      "text/plain": [
       "date\n",
       "2016-12-30    388.600423\n",
       "2017-10-24    422.921061\n",
       "2016-04-04    461.709961\n",
       "2016-10-27    462.947835\n",
       "2017-05-02    477.316406\n",
       "Name: error, dtype: float64"
      ]
     },
     "execution_count": 193,
     "metadata": {},
     "output_type": "execute_result"
    }
   ],
   "source": [
    "test.groupby([('date')])['error'].mean().sort_values(ascending=True).head()"
   ]
  }
 ],
 "metadata": {
  "kernelspec": {
   "display_name": "Python 3",
   "language": "python",
   "name": "python3"
  },
  "language_info": {
   "codemirror_mode": {
    "name": "ipython",
    "version": 3
   },
   "file_extension": ".py",
   "mimetype": "text/x-python",
   "name": "python",
   "nbconvert_exporter": "python",
   "pygments_lexer": "ipython3",
   "version": "3.11.7"
  }
 },
 "nbformat": 4,
 "nbformat_minor": 2
}
